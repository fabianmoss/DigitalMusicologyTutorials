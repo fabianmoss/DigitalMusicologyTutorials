{
 "cells": [
  {
   "cell_type": "markdown",
   "metadata": {},
   "source": [
    "# Digital Musicology Exercise: Plotting Pitch Class Histograms\n",
    "First of all, read all tasks. You probably won't finish the whole exercies in the class. Complete the tasks at home. We will discuss your questions next week. Note that it is generally a good idea to use [seaborn](http://seaborn.pydata.org) for statistical plotting."
   ]
  },
  {
   "cell_type": "code",
   "execution_count": 1,
   "metadata": {
    "collapsed": true
   },
   "outputs": [],
   "source": [
    "import numpy as np\n",
    "import pandas as pd\n",
    "import matplotlib.pyplot as plt\n",
    "import seaborn as sns\n",
    "import re"
   ]
  },
  {
   "cell_type": "markdown",
   "metadata": {},
   "source": [
    "## Read the data"
   ]
  },
  {
   "cell_type": "code",
   "execution_count": 2,
   "metadata": {},
   "outputs": [
    {
     "data": {
      "text/html": [
       "<div>\n",
       "<style scoped>\n",
       "    .dataframe tbody tr th:only-of-type {\n",
       "        vertical-align: middle;\n",
       "    }\n",
       "\n",
       "    .dataframe tbody tr th {\n",
       "        vertical-align: top;\n",
       "    }\n",
       "\n",
       "    .dataframe thead th {\n",
       "        text-align: right;\n",
       "    }\n",
       "</style>\n",
       "<table border=\"1\" class=\"dataframe\">\n",
       "  <thead>\n",
       "    <tr style=\"text-align: right;\">\n",
       "      <th></th>\n",
       "      <th>region</th>\n",
       "      <th>title</th>\n",
       "      <th>key</th>\n",
       "      <th>DGIs</th>\n",
       "      <th>spelled_pitches</th>\n",
       "    </tr>\n",
       "  </thead>\n",
       "  <tbody>\n",
       "    <tr>\n",
       "      <th>0</th>\n",
       "      <td>africa</td>\n",
       "      <td>Muwaschah Lamma Bada</td>\n",
       "      <td>g minor</td>\n",
       "      <td>P4 M2 m2 M2 M-2 P1 m-2 P1 M-2 P1 m-2 m2 M2 m2 ...</td>\n",
       "      <td>D5 G5 A5 B-5 C6 B-5 B-5 A5 A5 G5 G5 F#5 G5 A5 ...</td>\n",
       "    </tr>\n",
       "    <tr>\n",
       "      <th>1</th>\n",
       "      <td>mexico</td>\n",
       "      <td>CUCA 1</td>\n",
       "      <td>F major</td>\n",
       "      <td>P1 P1 P4 M3 M-6 P1 P1 P4 M3 M-3 P1 m-2 P1 M-2 ...</td>\n",
       "      <td>C4 C4 C4 F4 A4 C4 C4 C4 F4 A4 F4 F4 E4 E4 D4 D...</td>\n",
       "    </tr>\n",
       "    <tr>\n",
       "      <th>2</th>\n",
       "      <td>mexico</td>\n",
       "      <td>CUCA 2</td>\n",
       "      <td>F major</td>\n",
       "      <td>P1 P1 P4 M3 M-6 P1 P1 P4 M3 M-3 P1 m-2 P1 M-2 ...</td>\n",
       "      <td>C4 C4 C4 F4 A4 C4 C4 C4 F4 A4 F4 F4 E4 E4 D4 D...</td>\n",
       "    </tr>\n",
       "    <tr>\n",
       "      <th>3</th>\n",
       "      <td>mexico</td>\n",
       "      <td>CUCA 1</td>\n",
       "      <td>F major</td>\n",
       "      <td>P1 P1 P4 M3 M-6 P1 P1 P4 M3 M-3 P1 m-2 P1 M-2 ...</td>\n",
       "      <td>C4 C4 C4 F4 A4 C4 C4 C4 F4 A4 F4 F4 E4 E4 D4 D...</td>\n",
       "    </tr>\n",
       "    <tr>\n",
       "      <th>4</th>\n",
       "      <td>mexico</td>\n",
       "      <td>CUCA 2</td>\n",
       "      <td>F major</td>\n",
       "      <td>P1 P1 P4 M3 M-6 P1 P1 P4 M3 M-3 P1 m-2 P1 M-2 ...</td>\n",
       "      <td>C4 C4 C4 F4 A4 C4 C4 C4 F4 A4 F4 F4 E4 E4 D4 D...</td>\n",
       "    </tr>\n",
       "  </tbody>\n",
       "</table>\n",
       "</div>"
      ],
      "text/plain": [
       "   region                 title      key  \\\n",
       "0  africa  Muwaschah Lamma Bada  g minor   \n",
       "1  mexico                CUCA 1  F major   \n",
       "2  mexico                CUCA 2  F major   \n",
       "3  mexico                CUCA 1  F major   \n",
       "4  mexico                CUCA 2  F major   \n",
       "\n",
       "                                                DGIs  \\\n",
       "0  P4 M2 m2 M2 M-2 P1 m-2 P1 M-2 P1 m-2 m2 M2 m2 ...   \n",
       "1  P1 P1 P4 M3 M-6 P1 P1 P4 M3 M-3 P1 m-2 P1 M-2 ...   \n",
       "2  P1 P1 P4 M3 M-6 P1 P1 P4 M3 M-3 P1 m-2 P1 M-2 ...   \n",
       "3  P1 P1 P4 M3 M-6 P1 P1 P4 M3 M-3 P1 m-2 P1 M-2 ...   \n",
       "4  P1 P1 P4 M3 M-6 P1 P1 P4 M3 M-3 P1 m-2 P1 M-2 ...   \n",
       "\n",
       "                                     spelled_pitches  \n",
       "0  D5 G5 A5 B-5 C6 B-5 B-5 A5 A5 G5 G5 F#5 G5 A5 ...  \n",
       "1  C4 C4 C4 F4 A4 C4 C4 C4 F4 A4 F4 F4 E4 E4 D4 D...  \n",
       "2  C4 C4 C4 F4 A4 C4 C4 C4 F4 A4 F4 F4 E4 E4 D4 D...  \n",
       "3  C4 C4 C4 F4 A4 C4 C4 C4 F4 A4 F4 F4 E4 E4 D4 D...  \n",
       "4  C4 C4 C4 F4 A4 C4 C4 C4 F4 A4 F4 F4 E4 E4 D4 D...  "
      ]
     },
     "execution_count": 2,
     "metadata": {},
     "output_type": "execute_result"
    }
   ],
   "source": [
    "data = pd.read_csv(\"tone_profiles/data.csv\", sep='\\t', index_col=0)\n",
    "data['spelled_pitches'] = \\\n",
    "    data['spelled_pitches'].str.replace(\"', '\", \" \").str.replace(\"\\[\\'\", \"\").str.replace(\"\\'\\]\", \"\")\n",
    "data['DGIs'] = \\\n",
    "    data['DGIs'].str.replace(\"', '\", \" \").str.replace(\"\\[\\'\", \"\").str.replace(\"\\'\\]\", \"\")\n",
    "data.head()"
   ]
  },
  {
   "cell_type": "code",
   "execution_count": 3,
   "metadata": {},
   "outputs": [
    {
     "data": {
      "text/plain": [
       "(9373, 5)"
      ]
     },
     "execution_count": 3,
     "metadata": {},
     "output_type": "execute_result"
    }
   ],
   "source": [
    "data.shape"
   ]
  },
  {
   "cell_type": "markdown",
   "metadata": {},
   "source": [
    "## Data wrangling"
   ]
  },
  {
   "cell_type": "markdown",
   "metadata": {},
   "source": [
    "### Delete missing row"
   ]
  },
  {
   "cell_type": "code",
   "execution_count": 4,
   "metadata": {},
   "outputs": [
    {
     "data": {
      "text/html": [
       "<div>\n",
       "<style scoped>\n",
       "    .dataframe tbody tr th:only-of-type {\n",
       "        vertical-align: middle;\n",
       "    }\n",
       "\n",
       "    .dataframe tbody tr th {\n",
       "        vertical-align: top;\n",
       "    }\n",
       "\n",
       "    .dataframe thead th {\n",
       "        text-align: right;\n",
       "    }\n",
       "</style>\n",
       "<table border=\"1\" class=\"dataframe\">\n",
       "  <thead>\n",
       "    <tr style=\"text-align: right;\">\n",
       "      <th></th>\n",
       "      <th>region</th>\n",
       "      <th>title</th>\n",
       "      <th>key</th>\n",
       "      <th>DGIs</th>\n",
       "      <th>spelled_pitches</th>\n",
       "    </tr>\n",
       "  </thead>\n",
       "  <tbody>\n",
       "    <tr>\n",
       "      <th>1028</th>\n",
       "      <td>han</td>\n",
       "      <td>Yidui gezi xukongli fei</td>\n",
       "      <td>NaN</td>\n",
       "      <td>[]</td>\n",
       "      <td>[]</td>\n",
       "    </tr>\n",
       "  </tbody>\n",
       "</table>\n",
       "</div>"
      ],
      "text/plain": [
       "     region                    title  key DGIs spelled_pitches\n",
       "1028    han  Yidui gezi xukongli fei  NaN   []              []"
      ]
     },
     "execution_count": 4,
     "metadata": {},
     "output_type": "execute_result"
    }
   ],
   "source": [
    "# print the empty row\n",
    "data[data[\"key\"].isnull()]"
   ]
  },
  {
   "cell_type": "code",
   "execution_count": 5,
   "metadata": {},
   "outputs": [],
   "source": [
    "# drop the empty row\n",
    "data.drop(index=1028, inplace=True)\n",
    "data.reset_index(drop=True, inplace=True)"
   ]
  },
  {
   "cell_type": "markdown",
   "metadata": {},
   "source": [
    "### Create root and mode column"
   ]
  },
  {
   "cell_type": "code",
   "execution_count": 6,
   "metadata": {},
   "outputs": [],
   "source": [
    "tone_dict = {\n",
    "    \"C\": 0, \"D\": 2, \"E\": 4, \"F\": 5, \"G\": 7, \"A\": 9, \"B\": 11,\n",
    "    \"c\": 0, \"d\": 2, \"e\": 4, \"f\": 5, \"g\": 7, \"a\": 9, \"b\": 11\n",
    "}\n",
    "\n",
    "def pitchclass(spelled_pitch):\n",
    "    spelled_pitch_class = re.match(\"[\\w\\#-]+\", spelled_pitch)[0]\n",
    "    m = re.match(\"(\\w)(\\#*)(-*)\", spelled_pitch_class)\n",
    "    return (tone_dict[m[1]] + len(m[2]) - len(m[3])) % 12\n",
    "\n",
    "def root(key):\n",
    "    return pitchclass(re.match(\"([\\w\\#-]+) (major|minor)\", key)[1])\n",
    "\n",
    "def mode(key):\n",
    "    return re.match(\"([\\w\\#-]+) (major|minor)\", key)[2]"
   ]
  },
  {
   "cell_type": "code",
   "execution_count": 7,
   "metadata": {
    "collapsed": true
   },
   "outputs": [],
   "source": [
    "data[\"root\"] = data.key.map(root)\n",
    "data[\"mode\"] = data.key.map(mode)"
   ]
  },
  {
   "cell_type": "code",
   "execution_count": 8,
   "metadata": {},
   "outputs": [
    {
     "data": {
      "text/html": [
       "<div>\n",
       "<style scoped>\n",
       "    .dataframe tbody tr th:only-of-type {\n",
       "        vertical-align: middle;\n",
       "    }\n",
       "\n",
       "    .dataframe tbody tr th {\n",
       "        vertical-align: top;\n",
       "    }\n",
       "\n",
       "    .dataframe thead th {\n",
       "        text-align: right;\n",
       "    }\n",
       "</style>\n",
       "<table border=\"1\" class=\"dataframe\">\n",
       "  <thead>\n",
       "    <tr style=\"text-align: right;\">\n",
       "      <th></th>\n",
       "      <th>region</th>\n",
       "      <th>title</th>\n",
       "      <th>key</th>\n",
       "      <th>DGIs</th>\n",
       "      <th>spelled_pitches</th>\n",
       "      <th>root</th>\n",
       "      <th>mode</th>\n",
       "    </tr>\n",
       "  </thead>\n",
       "  <tbody>\n",
       "    <tr>\n",
       "      <th>0</th>\n",
       "      <td>africa</td>\n",
       "      <td>Muwaschah Lamma Bada</td>\n",
       "      <td>g minor</td>\n",
       "      <td>P4 M2 m2 M2 M-2 P1 m-2 P1 M-2 P1 m-2 m2 M2 m2 ...</td>\n",
       "      <td>D5 G5 A5 B-5 C6 B-5 B-5 A5 A5 G5 G5 F#5 G5 A5 ...</td>\n",
       "      <td>7</td>\n",
       "      <td>minor</td>\n",
       "    </tr>\n",
       "    <tr>\n",
       "      <th>1</th>\n",
       "      <td>mexico</td>\n",
       "      <td>CUCA 1</td>\n",
       "      <td>F major</td>\n",
       "      <td>P1 P1 P4 M3 M-6 P1 P1 P4 M3 M-3 P1 m-2 P1 M-2 ...</td>\n",
       "      <td>C4 C4 C4 F4 A4 C4 C4 C4 F4 A4 F4 F4 E4 E4 D4 D...</td>\n",
       "      <td>5</td>\n",
       "      <td>major</td>\n",
       "    </tr>\n",
       "    <tr>\n",
       "      <th>2</th>\n",
       "      <td>mexico</td>\n",
       "      <td>CUCA 2</td>\n",
       "      <td>F major</td>\n",
       "      <td>P1 P1 P4 M3 M-6 P1 P1 P4 M3 M-3 P1 m-2 P1 M-2 ...</td>\n",
       "      <td>C4 C4 C4 F4 A4 C4 C4 C4 F4 A4 F4 F4 E4 E4 D4 D...</td>\n",
       "      <td>5</td>\n",
       "      <td>major</td>\n",
       "    </tr>\n",
       "    <tr>\n",
       "      <th>3</th>\n",
       "      <td>mexico</td>\n",
       "      <td>CUCA 1</td>\n",
       "      <td>F major</td>\n",
       "      <td>P1 P1 P4 M3 M-6 P1 P1 P4 M3 M-3 P1 m-2 P1 M-2 ...</td>\n",
       "      <td>C4 C4 C4 F4 A4 C4 C4 C4 F4 A4 F4 F4 E4 E4 D4 D...</td>\n",
       "      <td>5</td>\n",
       "      <td>major</td>\n",
       "    </tr>\n",
       "    <tr>\n",
       "      <th>4</th>\n",
       "      <td>mexico</td>\n",
       "      <td>CUCA 2</td>\n",
       "      <td>F major</td>\n",
       "      <td>P1 P1 P4 M3 M-6 P1 P1 P4 M3 M-3 P1 m-2 P1 M-2 ...</td>\n",
       "      <td>C4 C4 C4 F4 A4 C4 C4 C4 F4 A4 F4 F4 E4 E4 D4 D...</td>\n",
       "      <td>5</td>\n",
       "      <td>major</td>\n",
       "    </tr>\n",
       "  </tbody>\n",
       "</table>\n",
       "</div>"
      ],
      "text/plain": [
       "   region                 title      key  \\\n",
       "0  africa  Muwaschah Lamma Bada  g minor   \n",
       "1  mexico                CUCA 1  F major   \n",
       "2  mexico                CUCA 2  F major   \n",
       "3  mexico                CUCA 1  F major   \n",
       "4  mexico                CUCA 2  F major   \n",
       "\n",
       "                                                DGIs  \\\n",
       "0  P4 M2 m2 M2 M-2 P1 m-2 P1 M-2 P1 m-2 m2 M2 m2 ...   \n",
       "1  P1 P1 P4 M3 M-6 P1 P1 P4 M3 M-3 P1 m-2 P1 M-2 ...   \n",
       "2  P1 P1 P4 M3 M-6 P1 P1 P4 M3 M-3 P1 m-2 P1 M-2 ...   \n",
       "3  P1 P1 P4 M3 M-6 P1 P1 P4 M3 M-3 P1 m-2 P1 M-2 ...   \n",
       "4  P1 P1 P4 M3 M-6 P1 P1 P4 M3 M-3 P1 m-2 P1 M-2 ...   \n",
       "\n",
       "                                     spelled_pitches  root   mode  \n",
       "0  D5 G5 A5 B-5 C6 B-5 B-5 A5 A5 G5 G5 F#5 G5 A5 ...     7  minor  \n",
       "1  C4 C4 C4 F4 A4 C4 C4 C4 F4 A4 F4 F4 E4 E4 D4 D...     5  major  \n",
       "2  C4 C4 C4 F4 A4 C4 C4 C4 F4 A4 F4 F4 E4 E4 D4 D...     5  major  \n",
       "3  C4 C4 C4 F4 A4 C4 C4 C4 F4 A4 F4 F4 E4 E4 D4 D...     5  major  \n",
       "4  C4 C4 C4 F4 A4 C4 C4 C4 F4 A4 F4 F4 E4 E4 D4 D...     5  major  "
      ]
     },
     "execution_count": 8,
     "metadata": {},
     "output_type": "execute_result"
    }
   ],
   "source": [
    "data.head()"
   ]
  },
  {
   "cell_type": "markdown",
   "metadata": {},
   "source": [
    "### Create pitch class columns"
   ]
  },
  {
   "cell_type": "code",
   "execution_count": 9,
   "metadata": {
    "collapsed": true
   },
   "outputs": [],
   "source": [
    "from collections import Counter\n",
    "\n",
    "def dict_to_pitchclass_vec(d):\n",
    "    return np.array([d[pc] if pc in d else 0.0 for pc in range(12)])"
   ]
  },
  {
   "cell_type": "code",
   "execution_count": 10,
   "metadata": {},
   "outputs": [],
   "source": [
    "pitchclass_distributions = data[\"spelled_pitches\"]\\\n",
    "    .map(lambda pitch_string: pitch_string.split())\\\n",
    "    .map(lambda pitches: Counter(map(pitchclass, pitches)))\\\n",
    "    .map(dict_to_pitchclass_vec)\\\n",
    "    .map(lambda pitchclass_counts: pitchclass_counts / np.sum(pitchclass_counts))\n",
    "    \n",
    "transposed_pitchclass_distributions = pd.DataFrame(\n",
    "    [np.roll(pitchclass_distributions[i], -data.root[i]) for i in data.index]\n",
    ")"
   ]
  },
  {
   "cell_type": "code",
   "execution_count": 11,
   "metadata": {},
   "outputs": [
    {
     "data": {
      "text/html": [
       "<div>\n",
       "<style scoped>\n",
       "    .dataframe tbody tr th:only-of-type {\n",
       "        vertical-align: middle;\n",
       "    }\n",
       "\n",
       "    .dataframe tbody tr th {\n",
       "        vertical-align: top;\n",
       "    }\n",
       "\n",
       "    .dataframe thead th {\n",
       "        text-align: right;\n",
       "    }\n",
       "</style>\n",
       "<table border=\"1\" class=\"dataframe\">\n",
       "  <thead>\n",
       "    <tr style=\"text-align: right;\">\n",
       "      <th></th>\n",
       "      <th>mode</th>\n",
       "      <th>0</th>\n",
       "      <th>1</th>\n",
       "      <th>2</th>\n",
       "      <th>3</th>\n",
       "      <th>4</th>\n",
       "      <th>5</th>\n",
       "      <th>6</th>\n",
       "      <th>7</th>\n",
       "      <th>8</th>\n",
       "      <th>9</th>\n",
       "      <th>10</th>\n",
       "      <th>11</th>\n",
       "    </tr>\n",
       "  </thead>\n",
       "  <tbody>\n",
       "    <tr>\n",
       "      <th>0</th>\n",
       "      <td>minor</td>\n",
       "      <td>0.237037</td>\n",
       "      <td>0.0</td>\n",
       "      <td>0.214815</td>\n",
       "      <td>0.17037</td>\n",
       "      <td>0.000000</td>\n",
       "      <td>0.081481</td>\n",
       "      <td>0.0</td>\n",
       "      <td>0.125926</td>\n",
       "      <td>0.059259</td>\n",
       "      <td>0.007407</td>\n",
       "      <td>0.014815</td>\n",
       "      <td>0.088889</td>\n",
       "    </tr>\n",
       "    <tr>\n",
       "      <th>1</th>\n",
       "      <td>major</td>\n",
       "      <td>0.107692</td>\n",
       "      <td>0.0</td>\n",
       "      <td>0.123077</td>\n",
       "      <td>0.00000</td>\n",
       "      <td>0.138462</td>\n",
       "      <td>0.076923</td>\n",
       "      <td>0.0</td>\n",
       "      <td>0.384615</td>\n",
       "      <td>0.000000</td>\n",
       "      <td>0.076923</td>\n",
       "      <td>0.000000</td>\n",
       "      <td>0.092308</td>\n",
       "    </tr>\n",
       "    <tr>\n",
       "      <th>2</th>\n",
       "      <td>major</td>\n",
       "      <td>0.114286</td>\n",
       "      <td>0.0</td>\n",
       "      <td>0.142857</td>\n",
       "      <td>0.00000</td>\n",
       "      <td>0.157143</td>\n",
       "      <td>0.071429</td>\n",
       "      <td>0.0</td>\n",
       "      <td>0.357143</td>\n",
       "      <td>0.000000</td>\n",
       "      <td>0.071429</td>\n",
       "      <td>0.000000</td>\n",
       "      <td>0.085714</td>\n",
       "    </tr>\n",
       "    <tr>\n",
       "      <th>3</th>\n",
       "      <td>major</td>\n",
       "      <td>0.107692</td>\n",
       "      <td>0.0</td>\n",
       "      <td>0.123077</td>\n",
       "      <td>0.00000</td>\n",
       "      <td>0.138462</td>\n",
       "      <td>0.076923</td>\n",
       "      <td>0.0</td>\n",
       "      <td>0.384615</td>\n",
       "      <td>0.000000</td>\n",
       "      <td>0.076923</td>\n",
       "      <td>0.000000</td>\n",
       "      <td>0.092308</td>\n",
       "    </tr>\n",
       "    <tr>\n",
       "      <th>4</th>\n",
       "      <td>major</td>\n",
       "      <td>0.114286</td>\n",
       "      <td>0.0</td>\n",
       "      <td>0.142857</td>\n",
       "      <td>0.00000</td>\n",
       "      <td>0.157143</td>\n",
       "      <td>0.071429</td>\n",
       "      <td>0.0</td>\n",
       "      <td>0.357143</td>\n",
       "      <td>0.000000</td>\n",
       "      <td>0.071429</td>\n",
       "      <td>0.000000</td>\n",
       "      <td>0.085714</td>\n",
       "    </tr>\n",
       "  </tbody>\n",
       "</table>\n",
       "</div>"
      ],
      "text/plain": [
       "    mode         0    1         2        3         4         5    6         7  \\\n",
       "0  minor  0.237037  0.0  0.214815  0.17037  0.000000  0.081481  0.0  0.125926   \n",
       "1  major  0.107692  0.0  0.123077  0.00000  0.138462  0.076923  0.0  0.384615   \n",
       "2  major  0.114286  0.0  0.142857  0.00000  0.157143  0.071429  0.0  0.357143   \n",
       "3  major  0.107692  0.0  0.123077  0.00000  0.138462  0.076923  0.0  0.384615   \n",
       "4  major  0.114286  0.0  0.142857  0.00000  0.157143  0.071429  0.0  0.357143   \n",
       "\n",
       "          8         9        10        11  \n",
       "0  0.059259  0.007407  0.014815  0.088889  \n",
       "1  0.000000  0.076923  0.000000  0.092308  \n",
       "2  0.000000  0.071429  0.000000  0.085714  \n",
       "3  0.000000  0.076923  0.000000  0.092308  \n",
       "4  0.000000  0.071429  0.000000  0.085714  "
      ]
     },
     "execution_count": 11,
     "metadata": {},
     "output_type": "execute_result"
    }
   ],
   "source": [
    "data = pd.concat((data, transposed_pitchclass_distributions), axis=1)\n",
    "data[[\"mode\", 0, 1, 2, 3, 4, 5, 6, 7, 8, 9, 10, 11]].head()"
   ]
  },
  {
   "cell_type": "markdown",
   "metadata": {},
   "source": [
    "## Plot distributions using Seaborn"
   ]
  },
  {
   "cell_type": "markdown",
   "metadata": {},
   "source": [
    "### Convert into long format"
   ]
  },
  {
   "cell_type": "code",
   "execution_count": 12,
   "metadata": {},
   "outputs": [
    {
     "data": {
      "text/html": [
       "<div>\n",
       "<style scoped>\n",
       "    .dataframe tbody tr th:only-of-type {\n",
       "        vertical-align: middle;\n",
       "    }\n",
       "\n",
       "    .dataframe tbody tr th {\n",
       "        vertical-align: top;\n",
       "    }\n",
       "\n",
       "    .dataframe thead th {\n",
       "        text-align: right;\n",
       "    }\n",
       "</style>\n",
       "<table border=\"1\" class=\"dataframe\">\n",
       "  <thead>\n",
       "    <tr style=\"text-align: right;\">\n",
       "      <th></th>\n",
       "      <th>mode</th>\n",
       "      <th>pitch class</th>\n",
       "      <th>relative frequency</th>\n",
       "    </tr>\n",
       "  </thead>\n",
       "  <tbody>\n",
       "    <tr>\n",
       "      <th>0</th>\n",
       "      <td>minor</td>\n",
       "      <td>0</td>\n",
       "      <td>0.237037</td>\n",
       "    </tr>\n",
       "    <tr>\n",
       "      <th>1</th>\n",
       "      <td>major</td>\n",
       "      <td>0</td>\n",
       "      <td>0.107692</td>\n",
       "    </tr>\n",
       "    <tr>\n",
       "      <th>2</th>\n",
       "      <td>major</td>\n",
       "      <td>0</td>\n",
       "      <td>0.114286</td>\n",
       "    </tr>\n",
       "    <tr>\n",
       "      <th>3</th>\n",
       "      <td>major</td>\n",
       "      <td>0</td>\n",
       "      <td>0.107692</td>\n",
       "    </tr>\n",
       "    <tr>\n",
       "      <th>4</th>\n",
       "      <td>major</td>\n",
       "      <td>0</td>\n",
       "      <td>0.114286</td>\n",
       "    </tr>\n",
       "  </tbody>\n",
       "</table>\n",
       "</div>"
      ],
      "text/plain": [
       "    mode pitch class  relative frequency\n",
       "0  minor           0            0.237037\n",
       "1  major           0            0.107692\n",
       "2  major           0            0.114286\n",
       "3  major           0            0.107692\n",
       "4  major           0            0.114286"
      ]
     },
     "execution_count": 12,
     "metadata": {},
     "output_type": "execute_result"
    }
   ],
   "source": [
    "data_long = pd.melt(\n",
    "    data[[\"mode\", 0, 1, 2, 3, 4, 5, 6, 7, 8, 9, 10, 11]], \n",
    "    id_vars    = \"mode\", \n",
    "    var_name   = \"pitch class\", \n",
    "    value_name = \"relative frequency\"\n",
    ")\n",
    "data_long.head()"
   ]
  },
  {
   "cell_type": "markdown",
   "metadata": {},
   "source": [
    "### Plot distributions"
   ]
  },
  {
   "cell_type": "code",
   "execution_count": 13,
   "metadata": {},
   "outputs": [
    {
     "name": "stderr",
     "output_type": "stream",
     "text": [
      "/Users/daniel/anaconda/lib/python3.6/site-packages/seaborn/categorical.py:1508: FutureWarning: remove_na is deprecated and is a private function. Do not use.\n",
      "  stat_data = remove_na(group_data[hue_mask])\n"
     ]
    },
    {
     "data": {
      "image/png": "[encoded data removed]",
      "text/plain": [
       "<matplotlib.figure.Figure at 0x111a461d0>"
      ]
     },
     "metadata": {},
     "output_type": "display_data"
    }
   ],
   "source": [
    "sns.factorplot(\n",
    "    x      = \"pitch class\",\n",
    "    y      = \"relative frequency\",\n",
    "    data   = data_long,\n",
    "    hue    = \"mode\",\n",
    "    kind   = \"bar\",\n",
    "    size   = 7,\n",
    "    aspect = 2\n",
    ")\n",
    "plt.show()"
   ]
  },
  {
   "cell_type": "code",
   "execution_count": 14,
   "metadata": {},
   "outputs": [
    {
     "name": "stderr",
     "output_type": "stream",
     "text": [
      "/Users/daniel/anaconda/lib/python3.6/site-packages/seaborn/categorical.py:490: FutureWarning: remove_na is deprecated and is a private function. Do not use.\n",
      "  box_data = remove_na(group_data[hue_mask])\n"
     ]
    },
    {
     "data": {
      "image/png": "[encoded data removed]",
      "text/plain": [
       "<matplotlib.figure.Figure at 0x111a150b8>"
      ]
     },
     "metadata": {},
     "output_type": "display_data"
    }
   ],
   "source": [
    "sns.factorplot(\n",
    "    x      = \"pitch class\",\n",
    "    y      = \"relative frequency\",\n",
    "    data   = data_long,\n",
    "    hue    = \"mode\",\n",
    "    kind   = \"box\",\n",
    "    size   = 7,\n",
    "    aspect = 2\n",
    ")\n",
    "plt.show()"
   ]
  },
  {
   "cell_type": "code",
   "execution_count": 15,
   "metadata": {},
   "outputs": [
    {
     "name": "stderr",
     "output_type": "stream",
     "text": [
      "/Users/daniel/anaconda/lib/python3.6/site-packages/seaborn/categorical.py:647: FutureWarning: remove_na is deprecated and is a private function. Do not use.\n",
      "  kde_data = remove_na(group_data[hue_mask])\n",
      "/Users/daniel/anaconda/lib/python3.6/site-packages/seaborn/categorical.py:895: FutureWarning: remove_na is deprecated and is a private function. Do not use.\n",
      "  violin_data = remove_na(group_data[hue_mask])\n",
      "/Users/daniel/anaconda/lib/python3.6/site-packages/seaborn/categorical.py:915: FutureWarning: remove_na is deprecated and is a private function. Do not use.\n",
      "  violin_data = remove_na(group_data)\n"
     ]
    },
    {
     "data": {
      "image/png": "[encoded data removed]",
      "text/plain": [
       "<matplotlib.figure.Figure at 0x1130df710>"
      ]
     },
     "metadata": {},
     "output_type": "display_data"
    }
   ],
   "source": [
    "sns.factorplot(\n",
    "    x      = \"pitch class\",\n",
    "    y      = \"relative frequency\",\n",
    "    data   = data_long,\n",
    "    hue    = \"mode\",\n",
    "    kind   = \"violin\",\n",
    "    split  = True,\n",
    "    size   = 7,\n",
    "    aspect = 2\n",
    ")\n",
    "plt.show()"
   ]
  }
 ],
 "metadata": {
  "kernelspec": {
   "display_name": "Python [default]",
   "language": "python",
   "name": "python3"
  },
  "language_info": {
   "codemirror_mode": {
    "name": "ipython",
    "version": 3
   },
   "file_extension": ".py",
   "mimetype": "text/x-python",
   "name": "python",
   "nbconvert_exporter": "python",
   "pygments_lexer": "ipython3",
   "version": "3.6.0"
  }
 },
 "nbformat": 4,
 "nbformat_minor": 2
}

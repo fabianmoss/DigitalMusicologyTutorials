{
 "cells": [
  {
   "cell_type": "markdown",
   "metadata": {},
   "source": [
    "# Digital Musicology Exercise: Plotting Pitch Class Histograms\n",
    "First of all, read all tasks. You probably won't finish the whole exercies in the class. Complete the tasks at home. We will discuss your questions next week. Note that it is generally a good idea to use [seaborn](http://seaborn.pydata.org) for statistical plotting."
   ]
  },
  {
   "cell_type": "code",
   "execution_count": 1,
   "metadata": {
    "collapsed": true
   },
   "outputs": [],
   "source": [
    "import numpy as np\n",
    "import pandas as pd\n",
    "import matplotlib.pyplot as plt\n",
    "import seaborn as sns\n",
    "import re"
   ]
  },
  {
   "cell_type": "markdown",
   "metadata": {},
   "source": [
    "## Step 1: Read the data"
   ]
  },
  {
   "cell_type": "code",
   "execution_count": 2,
   "metadata": {},
   "outputs": [
    {
     "data": {
      "text/html": [
       "<div>\n",
       "<style scoped>\n",
       "    .dataframe tbody tr th:only-of-type {\n",
       "        vertical-align: middle;\n",
       "    }\n",
       "\n",
       "    .dataframe tbody tr th {\n",
       "        vertical-align: top;\n",
       "    }\n",
       "\n",
       "    .dataframe thead th {\n",
       "        text-align: right;\n",
       "    }\n",
       "</style>\n",
       "<table border=\"1\" class=\"dataframe\">\n",
       "  <thead>\n",
       "    <tr style=\"text-align: right;\">\n",
       "      <th></th>\n",
       "      <th>region</th>\n",
       "      <th>title</th>\n",
       "      <th>key</th>\n",
       "      <th>DGIs</th>\n",
       "      <th>spelled_pitches</th>\n",
       "    </tr>\n",
       "  </thead>\n",
       "  <tbody>\n",
       "    <tr>\n",
       "      <th>0</th>\n",
       "      <td>africa</td>\n",
       "      <td>Muwaschah Lamma Bada</td>\n",
       "      <td>g minor</td>\n",
       "      <td>P4 M2 m2 M2 M-2 P1 m-2 P1 M-2 P1 m-2 m2 M2 m2 ...</td>\n",
       "      <td>D5 G5 A5 B-5 C6 B-5 B-5 A5 A5 G5 G5 F#5 G5 A5 ...</td>\n",
       "    </tr>\n",
       "    <tr>\n",
       "      <th>1</th>\n",
       "      <td>mexico</td>\n",
       "      <td>CUCA 1</td>\n",
       "      <td>F major</td>\n",
       "      <td>P1 P1 P4 M3 M-6 P1 P1 P4 M3 M-3 P1 m-2 P1 M-2 ...</td>\n",
       "      <td>C4 C4 C4 F4 A4 C4 C4 C4 F4 A4 F4 F4 E4 E4 D4 D...</td>\n",
       "    </tr>\n",
       "    <tr>\n",
       "      <th>2</th>\n",
       "      <td>mexico</td>\n",
       "      <td>CUCA 2</td>\n",
       "      <td>F major</td>\n",
       "      <td>P1 P1 P4 M3 M-6 P1 P1 P4 M3 M-3 P1 m-2 P1 M-2 ...</td>\n",
       "      <td>C4 C4 C4 F4 A4 C4 C4 C4 F4 A4 F4 F4 E4 E4 D4 D...</td>\n",
       "    </tr>\n",
       "    <tr>\n",
       "      <th>3</th>\n",
       "      <td>mexico</td>\n",
       "      <td>CUCA 1</td>\n",
       "      <td>F major</td>\n",
       "      <td>P1 P1 P4 M3 M-6 P1 P1 P4 M3 M-3 P1 m-2 P1 M-2 ...</td>\n",
       "      <td>C4 C4 C4 F4 A4 C4 C4 C4 F4 A4 F4 F4 E4 E4 D4 D...</td>\n",
       "    </tr>\n",
       "    <tr>\n",
       "      <th>4</th>\n",
       "      <td>mexico</td>\n",
       "      <td>CUCA 2</td>\n",
       "      <td>F major</td>\n",
       "      <td>P1 P1 P4 M3 M-6 P1 P1 P4 M3 M-3 P1 m-2 P1 M-2 ...</td>\n",
       "      <td>C4 C4 C4 F4 A4 C4 C4 C4 F4 A4 F4 F4 E4 E4 D4 D...</td>\n",
       "    </tr>\n",
       "  </tbody>\n",
       "</table>\n",
       "</div>"
      ],
      "text/plain": [
       "   region                 title      key  \\\n",
       "0  africa  Muwaschah Lamma Bada  g minor   \n",
       "1  mexico                CUCA 1  F major   \n",
       "2  mexico                CUCA 2  F major   \n",
       "3  mexico                CUCA 1  F major   \n",
       "4  mexico                CUCA 2  F major   \n",
       "\n",
       "                                                DGIs  \\\n",
       "0  P4 M2 m2 M2 M-2 P1 m-2 P1 M-2 P1 m-2 m2 M2 m2 ...   \n",
       "1  P1 P1 P4 M3 M-6 P1 P1 P4 M3 M-3 P1 m-2 P1 M-2 ...   \n",
       "2  P1 P1 P4 M3 M-6 P1 P1 P4 M3 M-3 P1 m-2 P1 M-2 ...   \n",
       "3  P1 P1 P4 M3 M-6 P1 P1 P4 M3 M-3 P1 m-2 P1 M-2 ...   \n",
       "4  P1 P1 P4 M3 M-6 P1 P1 P4 M3 M-3 P1 m-2 P1 M-2 ...   \n",
       "\n",
       "                                     spelled_pitches  \n",
       "0  D5 G5 A5 B-5 C6 B-5 B-5 A5 A5 G5 G5 F#5 G5 A5 ...  \n",
       "1  C4 C4 C4 F4 A4 C4 C4 C4 F4 A4 F4 F4 E4 E4 D4 D...  \n",
       "2  C4 C4 C4 F4 A4 C4 C4 C4 F4 A4 F4 F4 E4 E4 D4 D...  \n",
       "3  C4 C4 C4 F4 A4 C4 C4 C4 F4 A4 F4 F4 E4 E4 D4 D...  \n",
       "4  C4 C4 C4 F4 A4 C4 C4 C4 F4 A4 F4 F4 E4 E4 D4 D...  "
      ]
     },
     "execution_count": 2,
     "metadata": {},
     "output_type": "execute_result"
    }
   ],
   "source": [
    "data = pd.read_csv(\"data.csv\", sep='\\t', index_col=0)\n",
    "data['spelled_pitches'] = \\\n",
    "    data['spelled_pitches'].str.replace(\"', '\", \" \").str.replace(\"\\[\\'\", \"\").str.replace(\"\\'\\]\", \"\")\n",
    "data['DGIs'] = \\\n",
    "    data['DGIs'].str.replace(\"', '\", \" \").str.replace(\"\\[\\'\", \"\").str.replace(\"\\'\\]\", \"\")\n",
    "data.head()"
   ]
  },
  {
   "cell_type": "code",
   "execution_count": 3,
   "metadata": {},
   "outputs": [
    {
     "data": {
      "text/plain": [
       "(9373, 5)"
      ]
     },
     "execution_count": 3,
     "metadata": {},
     "output_type": "execute_result"
    }
   ],
   "source": [
    "data.shape"
   ]
  },
  {
   "cell_type": "markdown",
   "metadata": {},
   "source": [
    "## Step 2: Create new colums for the root and mode of the piece\n",
    "Translate the keys into modes and pitch classes of roots. The easiest way might be to write a dictionary by hand that does the job."
   ]
  },
  {
   "cell_type": "code",
   "execution_count": null,
   "metadata": {},
   "outputs": [],
   "source": []
  },
  {
   "cell_type": "markdown",
   "metadata": {},
   "source": [
    "## Step 3: Create one new column for each pitch class\n",
    "1. Translate the sequences of spelled pitches into lists of pitch classes.\n",
    "2. Count the pitch classes of the pieces and write the counts into the data frame."
   ]
  },
  {
   "cell_type": "code",
   "execution_count": null,
   "metadata": {
    "collapsed": true
   },
   "outputs": [],
   "source": []
  },
  {
   "cell_type": "markdown",
   "metadata": {},
   "source": [
    "## Step 4: Plot your first pitch class histogram and pitch class distribution\n",
    "1. Choose an example piece.\n",
    "1. What do you expect to see?\n",
    "1. Plot a pitch class histogram in chromatic order.\n",
    "1. What do you see? Can you guess the key of the piece from its pitch class histogram?\n",
    "1. Normalize the pitch class histogram to obtain a pitch class distribution and plot it."
   ]
  },
  {
   "cell_type": "code",
   "execution_count": null,
   "metadata": {
    "collapsed": true
   },
   "outputs": [],
   "source": []
  },
  {
   "cell_type": "markdown",
   "metadata": {},
   "source": [
    "## Step 5: Plot the averaged pitch class distribution for the major and the minor mode\n",
    "2. Plot the averaged distributions. \n",
    "1. Can you show everything in one figure? \n",
    "3. Would it also make sense to plot averaged pitch class histograms?"
   ]
  },
  {
   "cell_type": "code",
   "execution_count": null,
   "metadata": {
    "collapsed": true
   },
   "outputs": [],
   "source": []
  },
  {
   "cell_type": "markdown",
   "metadata": {},
   "source": [
    "## Step 6: Plot the averaged distributions in fifths ordering\n",
    "1. Create the plot.\n",
    "2. What do you see?"
   ]
  },
  {
   "cell_type": "code",
   "execution_count": null,
   "metadata": {
    "collapsed": true
   },
   "outputs": [],
   "source": []
  },
  {
   "cell_type": "markdown",
   "metadata": {},
   "source": [
    "## Step 7: Extend the plot above to show the diffusion of each pitch class\n",
    "1. Decide to either use error bars, boxplots, or violin plots. What is the difference between them? Violin plots are of cause the most fancy figures... \n",
    "1. Describe what you see."
   ]
  },
  {
   "cell_type": "code",
   "execution_count": null,
   "metadata": {
    "collapsed": true
   },
   "outputs": [],
   "source": []
  }
 ],
 "metadata": {
  "kernelspec": {
   "display_name": "Python [default]",
   "language": "python",
   "name": "python3"
  },
  "language_info": {
   "codemirror_mode": {
    "name": "ipython",
    "version": 3
   },
   "file_extension": ".py",
   "mimetype": "text/x-python",
   "name": "python",
   "nbconvert_exporter": "python",
   "pygments_lexer": "ipython3",
   "version": "3.6.0"
  }
 },
 "nbformat": 4,
 "nbformat_minor": 2
}

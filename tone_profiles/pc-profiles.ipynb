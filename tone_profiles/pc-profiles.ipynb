{
 "cells": [
  {
   "cell_type": "markdown",
   "metadata": {},
   "source": [
    "# Digital Musicology Exercise\n",
    "## Finding Similarities and Differences in Folk Melodies with Python and Pandas\n",
    "\n",
    "In this exercise we will have a look at the **Essen Folksong Collection (EFD)**. It is a database of Folksongs from all around the world gathered by the Ethnomusicologist Helmut Schaffrath (1995). The collection can be downloaded from [this website](http://www.esac-data.org/). It comes in the \\*\\*kern format that is a table of note events where the rows correspond to event time.\n",
    "\n",
    "We will answer a very specific question:\n",
    "\n",
    "**What can we learn about musical scales when we look at the notes in a musical piece?**\n",
    "\n",
    "For this purpose and also due to limited time, we need to make some simplifications. We will only consider **note counts**. That means, for this excercise we just count all the notes in a piece but do not care how long the notes are. Another way to say it is that we are just interested in the pitch dimension.\n",
    "\n",
    "Notes in the EFD come as **spelled pitches**. Spelled pitches have three parts:\n",
    "1. the diatonic step (C, D, E, F, G, A, or B)\n",
    "2. possibly one or two accidentals (# or b)\n",
    "3. the octave in which the note sounds\n",
    "\n",
    "Moreover, we will reduce the pitches in a melody to **pitch classe**. This means we do not differentiate between the same pitches in different octaves, e.g. C4 and C5, nor will we distinguish between enharmonically equivalent pitches, such as F#3 and Gb3.\n",
    "\n",
    "This way, each piece can be represented as a list of pitch classes that can then be counted.\n",
    "\n",
    "Because it is not straight-forward to work with \\*\\*kern scores in Python, the data was already transformed into DataFrame format and exported to `data.csv`. \n",
    "\n",
    "First, we need to import sum libraries that contain the functions that we will use for the data analysis. If you do not have one or more of the packages installed, run ``conda install packages-names`` in a command-line tool (as adminstrator)."
   ]
  },
  {
   "cell_type": "code",
   "execution_count": 1,
   "metadata": {
    "collapsed": true
   },
   "outputs": [],
   "source": [
    "import numpy as np # for numerical computation (we need it to transpose melodies)\n",
    "import pandas as pd # to organize our data in tabular format\n",
    "\n",
    "import matplotlib.pyplot as plt # to visualize results \n",
    "import seaborn as sns # more advanced visualization tools\n",
    "# directly show the plots in the notebook\n",
    "%matplotlib inline \n",
    "\n",
    "import re # regular expressions: for pattern finding in strings"
   ]
  },
  {
   "cell_type": "markdown",
   "metadata": {},
   "source": [
    "### Step 1: Preprocessing\n",
    "#### Read the data and create new column that contains a list of the pitches of the melody"
   ]
  },
  {
   "cell_type": "code",
   "execution_count": null,
   "metadata": {},
   "outputs": [],
   "source": [
    "data = pd.read_csv(\"data.csv\", sep='\\t', index_col=0)\n",
    "data.head()"
   ]
  },
  {
   "cell_type": "markdown",
   "metadata": {},
   "source": [
    "Wee see that the (preprocessed) data comes with the features `region`, `title`, and `key`, and is represended as **directed generic intervals** (`DGIs`) and `spelled_pitches`. \n",
    "\n",
    "For this excercise we will only work with the data in the `key` and `spelled_pitches` columns. The `spelled_pitches` entries look like a list of pitches but they are actually strings (`'['`, `','` and whitespaces are characters). Therefore we need to first transform it into a representation that we can work with. We will not go into details here but basically we just remove everything that we don't need from the string until only the spelled pitches are left."
   ]
  },
  {
   "cell_type": "code",
   "execution_count": null,
   "metadata": {},
   "outputs": [],
   "source": [
    "data['spelled_pitches'] = \\\n",
    "    data['spelled_pitches'].str.replace(\"', '\", \" \").str.replace(\"\\[\\'\", \"\").str.replace(\"\\'\\]\", \"\")"
   ]
  },
  {
   "cell_type": "code",
   "execution_count": null,
   "metadata": {},
   "outputs": [],
   "source": [
    "data.head()"
   ]
  },
  {
   "cell_type": "markdown",
   "metadata": {},
   "source": [
    "Let's also drop the columns that we don't need for this excercise."
   ]
  },
  {
   "cell_type": "code",
   "execution_count": null,
   "metadata": {},
   "outputs": [],
   "source": [
    "del data['region']\n",
    "del data['DGIs']"
   ]
  },
  {
   "cell_type": "code",
   "execution_count": null,
   "metadata": {},
   "outputs": [],
   "source": [
    "data.head()"
   ]
  },
  {
   "cell_type": "markdown",
   "metadata": {},
   "source": [
    "Let us inspect the data bit further with the `describe` method."
   ]
  },
  {
   "cell_type": "code",
   "execution_count": null,
   "metadata": {},
   "outputs": [],
   "source": [
    "data.describe()"
   ]
  },
  {
   "cell_type": "markdown",
   "metadata": {},
   "source": [
    "It seems that we have some duplicates with different titles in the dataset. Normally, we should deal with this issue. For now we will treat them as separate songs. Also we can see that apparently there is missing key information for one song. Let's see where this happens."
   ]
  },
  {
   "cell_type": "code",
   "execution_count": null,
   "metadata": {},
   "outputs": [],
   "source": [
    "data[ data['key'].isnull() ]"
   ]
  },
  {
   "cell_type": "markdown",
   "metadata": {},
   "source": [
    "Since we have only the title for this song, it doesn't make much sense to include it into our analysis. We will exclude it and drop this row from the DataFrame."
   ]
  },
  {
   "cell_type": "code",
   "execution_count": null,
   "metadata": {},
   "outputs": [],
   "source": [
    "data.drop(1028, inplace=True)"
   ]
  },
  {
   "cell_type": "code",
   "execution_count": null,
   "metadata": {},
   "outputs": [],
   "source": [
    "data = data.reset_index(drop=True)"
   ]
  },
  {
   "cell_type": "code",
   "execution_count": null,
   "metadata": {},
   "outputs": [],
   "source": [
    "data.shape"
   ]
  },
  {
   "cell_type": "markdown",
   "metadata": {},
   "source": [
    "## Step 2: Extract the root and mode of the pieces and write them in new columns\n",
    "Translate the keys into modes and pitch classes of roots. The easiest way might be to write a dictionary by hand that does the job."
   ]
  },
  {
   "cell_type": "code",
   "execution_count": null,
   "metadata": {},
   "outputs": [],
   "source": [
    "data['root'], data['mode'] = data['key'].str.split(' ').str"
   ]
  },
  {
   "cell_type": "code",
   "execution_count": null,
   "metadata": {},
   "outputs": [],
   "source": [
    "data.head()"
   ]
  },
  {
   "cell_type": "markdown",
   "metadata": {},
   "source": [
    "It is always a good idea to inspect the data to understand it better. What are the proportions of major and minor pieces in this dataset?"
   ]
  },
  {
   "cell_type": "code",
   "execution_count": null,
   "metadata": {},
   "outputs": [],
   "source": [
    "data['mode'].value_counts()"
   ]
  },
  {
   "cell_type": "code",
   "execution_count": null,
   "metadata": {},
   "outputs": [],
   "source": [
    "data['mode'].value_counts() / len(data)"
   ]
  },
  {
   "cell_type": "code",
   "execution_count": null,
   "metadata": {},
   "outputs": [],
   "source": [
    "data['root'].value_counts()"
   ]
  },
  {
   "cell_type": "markdown",
   "metadata": {},
   "source": [
    "We don't want to distinguish between the roots of major and minor keys, so we just write all the roots as uppercase letters."
   ]
  },
  {
   "cell_type": "code",
   "execution_count": null,
   "metadata": {},
   "outputs": [],
   "source": [
    "data['root'] = data['root'].str.upper()"
   ]
  },
  {
   "cell_type": "code",
   "execution_count": null,
   "metadata": {},
   "outputs": [],
   "source": [
    "data['root'].value_counts()"
   ]
  },
  {
   "cell_type": "markdown",
   "metadata": {},
   "source": [
    "In order to transpose all the melodies to the same key, we need to know the pitch-class of each root. We will use a pragmatic approach and just explicitly state the information in a dictionary. It is common to define `'C'` as pitch class `0`."
   ]
  },
  {
   "cell_type": "code",
   "execution_count": null,
   "metadata": {},
   "outputs": [],
   "source": [
    "roots_dict = { \n",
    "    'G':7,\n",
    "    'F':5,\n",
    "    'C':0,\n",
    "    'A':9,\n",
    "    'D':2,\n",
    "    'B-':10,\n",
    "    'E-':3,\n",
    "    'E':4,\n",
    "    'A-':8,\n",
    "    'D-':1,\n",
    "    'B':11,\n",
    "    'F#':6\n",
    "    }"
   ]
  },
  {
   "cell_type": "markdown",
   "metadata": {},
   "source": [
    "No we can translate the roots to pitch classes."
   ]
  },
  {
   "cell_type": "code",
   "execution_count": null,
   "metadata": {},
   "outputs": [],
   "source": [
    "data['root'] = data['root'].map(roots_dict)"
   ]
  },
  {
   "cell_type": "code",
   "execution_count": null,
   "metadata": {},
   "outputs": [],
   "source": [
    "data.tail()"
   ]
  },
  {
   "cell_type": "markdown",
   "metadata": {},
   "source": [
    "## Step 3: Create one new column for each pitch class in order to extract pitch-class counts\n",
    "\n",
    "First, we transform the melody into a list of spelled pitches."
   ]
  },
  {
   "cell_type": "code",
   "execution_count": null,
   "metadata": {},
   "outputs": [],
   "source": [
    "data['spelled_pitches'] = data['spelled_pitches'].str.split()"
   ]
  },
  {
   "cell_type": "code",
   "execution_count": null,
   "metadata": {},
   "outputs": [],
   "source": [
    "data.head()"
   ]
  },
  {
   "cell_type": "markdown",
   "metadata": {},
   "source": [
    "Next, we need a way to transform each pitch to a pitch class. To that end we define a function that takes a spelled pitch (a symbol such as `B-5`) and returns it's pitch class as a number between `0` and `12`.  "
   ]
  },
  {
   "cell_type": "code",
   "execution_count": null,
   "metadata": {},
   "outputs": [],
   "source": [
    "def spelled_pitch_to_pitch_class(spelled_pitch):\n",
    "    \"\"\"\n",
    "    This function transforms a spelled pitch, such as, `B-5` \n",
    "    into a pitch class, a number between 0 and 12.\n",
    "    \n",
    "    A spelled pitch consists of three parts:\n",
    "    1. Its diatonic step (C, D, E, F, G, A, or B)\n",
    "    2. Potentially one or two accidentals (# or b)\n",
    "    3. Its octave as a number.\n",
    "    \"\"\"\n",
    "    \n",
    "    # Remove octave by removing the last character in the string\n",
    "    spelled_pitch_class = spelled_pitch[:-1]\n",
    "    \n",
    "    # Extract the diatonic step\n",
    "    # First, we define a dictionary that associates \n",
    "    # each diatonic step with a pitch class\n",
    "    \n",
    "    pitch_classes = {\n",
    "        'C':0,\n",
    "        'D':2,\n",
    "        'E':4,\n",
    "        'F':5,\n",
    "        'G':7,\n",
    "        'A':9,\n",
    "        'B':11\n",
    "    }\n",
    "    \n",
    "    # Extract accidentals\n",
    "    # We define a regular expression that finds the three parts \n",
    "    # of a spelled pitch class. \n",
    "    match = re.match(r'(\\w)(\\#*)(-*)', spelled_pitch_class).group(1,2,3)\n",
    "    \n",
    "    # If we find a match, we get a tripel (step, sharps, flats)\n",
    "    if match:\n",
    "        step = pitch_classes[match[0]]\n",
    "        sharps = len(match[1])\n",
    "        flats = len(match[2])\n",
    "    \n",
    "    # The only thing left to do is to take the pitch class of the diatonic step,\n",
    "    # add the number of sharps and subtract the number of flats\n",
    "    # Finally, since pitch classes are always between 0 and 11, we take this number mod 12.\n",
    "    return (step + sharps - flats) % 12"
   ]
  },
  {
   "cell_type": "markdown",
   "metadata": {},
   "source": [
    "In the previous step we set up a function that converts spelled pitches into pitch classes. Now we can use it to count all the notes in a piece. "
   ]
  },
  {
   "cell_type": "code",
   "execution_count": null,
   "metadata": {},
   "outputs": [],
   "source": [
    "# First we set up an empty list that will later contain dictionaries of pitch-class counts for each song. \n",
    "countdicts = []\n",
    "\n",
    "# Then we loop over all the rows (pieces) in our dataframe \n",
    "for index, row in data.iterrows():\n",
    "    \n",
    "    # We replace the spelled pitches with pitch classes\n",
    "    row['spelled_pitches'] = [spelled_pitch_to_pitch_class(pitch) for pitch in row['spelled_pitches']]\n",
    "    \n",
    "    # Then we count the occurences of each pitch class in this list\n",
    "    # We create an empty dictionary that will contain the pitch-class counts for the current piece\n",
    "    intcounts = {}\n",
    "    \n",
    "    # We iterate over all pitch classes and see if it is already in the `intcounts` dictionary\n",
    "    for pitch_class in row['spelled_pitches']:\n",
    "        # if not, set the count to 1\n",
    "        if pitch_class not in intcounts.keys():\n",
    "            intcounts[pitch_class] = 1\n",
    "        # if yes, increment the count by 1\n",
    "        else:\n",
    "            intcounts[pitch_class] += 1\n",
    "    # Finally, add the pitch-class counts dictionary to our list of pitch-class count dictionaries\n",
    "    countdicts.append(intcounts)"
   ]
  },
  {
   "cell_type": "markdown",
   "metadata": {},
   "source": [
    "This is what the list of pitch-class count dictionaries looks like:"
   ]
  },
  {
   "cell_type": "code",
   "execution_count": null,
   "metadata": {},
   "outputs": [],
   "source": [
    "countdicts"
   ]
  },
  {
   "cell_type": "markdown",
   "metadata": {},
   "source": [
    "This is not really convenient. To handle it easier, we transform it to a DataFrame object and set all pitch classes to `0` if they do not occur in a piece."
   ]
  },
  {
   "cell_type": "code",
   "execution_count": null,
   "metadata": {},
   "outputs": [],
   "source": [
    "counts = pd.DataFrame(countdicts).fillna(0)"
   ]
  },
  {
   "cell_type": "code",
   "execution_count": null,
   "metadata": {},
   "outputs": [],
   "source": [
    "counts.head(10)"
   ]
  },
  {
   "cell_type": "markdown",
   "metadata": {},
   "source": [
    "The DataFrame `counts` contains now the pitch-class counts for all pieces. We can see if the dimensions of `counts` and `data` fit."
   ]
  },
  {
   "cell_type": "code",
   "execution_count": null,
   "metadata": {},
   "outputs": [],
   "source": [
    "counts.shape, data.shape"
   ]
  },
  {
   "cell_type": "markdown",
   "metadata": {},
   "source": [
    "But now, longer pieces weight more just because they contain more notes. To avoid that we have to normalize the DataFrame to get relative frequencies."
   ]
  },
  {
   "cell_type": "code",
   "execution_count": null,
   "metadata": {},
   "outputs": [],
   "source": [
    "normalized = counts.div(counts.sum(axis=1), axis=0)\n",
    "normalized.head(10)"
   ]
  },
  {
   "cell_type": "markdown",
   "metadata": {},
   "source": [
    "Now we are almoste done with transforming the data in order to answer our question. We still need to transpose all songs into the same key so that we can compare their pitch-class distributions. Let's think a moment about how this can be done. We have the pitch-class distribution of each song in `counts`, and we have `key`, `root`, and `mode` in `data`. \n",
    "\n",
    "Let's say that we want to transpose all songs to the root C. C major and C minor pieces do not have to change. A piece in G major, for instance, has the root `7` and needs to be transposed to the root `0`. A piece in Bb minor has the root `10` and needs do be transposed to the root `0`. The easiest way to do this is to 'rotate' the pitch-class distributions by the negative amount of the root. Luckily, numpy provides the `roll` function to do exactly that. It takes an array (a vector) and rolls it by the specified amount. We do this for all songs in data and save the result in a new DataFrame `transposed`."
   ]
  },
  {
   "cell_type": "code",
   "execution_count": null,
   "metadata": {},
   "outputs": [],
   "source": [
    "transposed = pd.DataFrame(\n",
    "    [ np.roll( normalized.iloc[i,:], -data['root'][i] ) for i in range(len(data)) ]\n",
    "    )\n",
    "\n",
    "transposed.head(10)"
   ]
  },
  {
   "cell_type": "markdown",
   "metadata": {},
   "source": [
    "We can already observe that none of the first 10 songs in the dataset has the tritone (pitch class 6), and only one has a minor third (pitch class 3) or a minor seventh (pitch class 10).\n",
    "\n",
    "It would be nice not having to work with to DataFrames, `data` and `transposed`, so we combine (concatenate) them in a new one, just called `df`."
   ]
  },
  {
   "cell_type": "code",
   "execution_count": null,
   "metadata": {},
   "outputs": [],
   "source": [
    "df = pd.concat([data, transposed], axis=1)"
   ]
  },
  {
   "cell_type": "code",
   "execution_count": null,
   "metadata": {},
   "outputs": [],
   "source": [
    "df.shape"
   ]
  },
  {
   "cell_type": "code",
   "execution_count": null,
   "metadata": {},
   "outputs": [],
   "source": [
    "df.head()"
   ]
  },
  {
   "cell_type": "markdown",
   "metadata": {},
   "source": [
    "## Step 4: Plot your first pitch class histogram and pitch class distribution\n",
    "\n",
    "1. Choose an example piece.\n",
    "1. What do you expect to see?\n",
    "1. Plot a pitch class histogram in chromatic order."
   ]
  },
  {
   "cell_type": "code",
   "execution_count": null,
   "metadata": {},
   "outputs": [],
   "source": [
    "piece = df.iloc[0,-11:]\n",
    "piece.plot.bar(rot=0);"
   ]
  },
  {
   "cell_type": "markdown",
   "metadata": {},
   "source": [
    "## Step 5: Plot the averaged pitch class distribution for the major and the minor mode\n",
    "2. Plot the averaged distributions. \n",
    "1. Can you show everything in one figure? \n",
    "3. Would it also make sense to plot averaged pitch class histograms?"
   ]
  },
  {
   "cell_type": "code",
   "execution_count": null,
   "metadata": {},
   "outputs": [],
   "source": [
    "melted = df.melt(id_vars='mode',\n",
    "                 value_vars=[0,1,2,3,4,5,6,7,8,9,10,11],\n",
    "                 var_name='pitch_classes',\n",
    "                 value_name='relative_frequencies'\n",
    "                )"
   ]
  },
  {
   "cell_type": "code",
   "execution_count": null,
   "metadata": {},
   "outputs": [],
   "source": [
    "melted.head()"
   ]
  },
  {
   "cell_type": "code",
   "execution_count": null,
   "metadata": {},
   "outputs": [],
   "source": [
    "melted.shape"
   ]
  },
  {
   "cell_type": "code",
   "execution_count": null,
   "metadata": {},
   "outputs": [],
   "source": [
    "sns.factorplot(data=melted, \n",
    "               x='pitch_classes', \n",
    "               y='relative_frequencies', \n",
    "               hue='mode',\n",
    "               kind='bar',\n",
    "               aspect=2.5\n",
    "              );\n",
    "\n",
    "plt.show()"
   ]
  },
  {
   "cell_type": "markdown",
   "metadata": {},
   "source": [
    "## Step 6: Plot the averaged distributions in fifths ordering\n",
    "1. Create the plot.\n",
    "2. What do you see?"
   ]
  },
  {
   "cell_type": "code",
   "execution_count": null,
   "metadata": {
    "collapsed": true
   },
   "outputs": [],
   "source": [
    "melted['fifths'] = melted['pitch_classes'] * 7 % 12"
   ]
  },
  {
   "cell_type": "code",
   "execution_count": null,
   "metadata": {},
   "outputs": [],
   "source": [
    "sns.factorplot(data=melted, \n",
    "               x='fifths', \n",
    "               y='relative_frequencies', \n",
    "               hue='mode',\n",
    "               kind='bar',\n",
    "               aspect=2.5\n",
    "              );"
   ]
  },
  {
   "cell_type": "markdown",
   "metadata": {},
   "source": [
    "## Step 7: Extend the plot above to show the diffusion of each pitch class\n",
    "1. Decide to either use error bars, boxplots, or violin plots. What is the difference between them? Violin plots are of cause the most fancy figures... \n",
    "1. Describe what you see."
   ]
  },
  {
   "cell_type": "code",
   "execution_count": null,
   "metadata": {
    "collapsed": true
   },
   "outputs": [],
   "source": [
    "plt.figure(figsize=(12,10))\n",
    "sns.boxplot(\n",
    "    data=melted,\n",
    "    x='pitch_classes',\n",
    "    y='relative_frequencies',\n",
    "    hue='mode',\n",
    "    fliersize=2.5\n",
    ");"
   ]
  },
  {
   "cell_type": "markdown",
   "metadata": {},
   "source": [
    "These boxplots show already much more! For example, they reveal that there are many outliers which we can't see in the bar plot. \n",
    "https://www.autodeskresearch.com/publications/samestats"
   ]
  },
  {
   "cell_type": "code",
   "execution_count": null,
   "metadata": {
    "collapsed": true
   },
   "outputs": [],
   "source": [
    "plt.figure(figsize=(12,10))\n",
    "sns.violinplot(\n",
    "    data=melted,\n",
    "    x='pitch_classes',\n",
    "    y='relative_frequencies',\n",
    "    hue='mode',\n",
    "    inner='quart',\n",
    "    split=True\n",
    ");"
   ]
  }
 ],
 "metadata": {
  "kernelspec": {
   "display_name": "Python 3",
   "language": "python",
   "name": "python3"
  },
  "language_info": {
   "codemirror_mode": {
    "name": "ipython",
    "version": 3
   },
   "file_extension": ".py",
   "mimetype": "text/x-python",
   "name": "python",
   "nbconvert_exporter": "python",
   "pygments_lexer": "ipython3",
   "version": "3.6.2"
  }
 },
 "nbformat": 4,
 "nbformat_minor": 2
}
